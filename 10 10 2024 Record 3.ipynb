{
 "cells": [
  {
   "cell_type": "code",
   "execution_count": 1,
   "id": "08d53a85",
   "metadata": {},
   "outputs": [
    {
     "name": "stdout",
     "output_type": "stream",
     "text": [
      "Enter a word :Program\n",
      "Before Swap : Program\n",
      "After Swap : mrograP\n"
     ]
    }
   ],
   "source": [
    "#CHANGE TO A NEW STRING\n",
    "str=(input(\"Enter a word :\"))\n",
    "print(\"Before Swap :\",str)\n",
    "s=str[0]\n",
    "e=str[-1]\n",
    "res=e+str[1:-1]+s\n",
    "print(\"After Swap :\",res)\n"
   ]
  },
  {
   "cell_type": "code",
   "execution_count": 2,
   "id": "335efbe5",
   "metadata": {},
   "outputs": [
    {
     "name": "stdout",
     "output_type": "stream",
     "text": [
      "Enter the first word :Python\n",
      "Enter the second word :Program\n",
      "Before swap : Python   Program\n",
      "After swap : Prthon   Pyogram\n"
     ]
    }
   ],
   "source": [
    "#SINGLE STRING\n",
    "a=(input(\"Enter the first word :\"))\n",
    "b=(input(\"Enter the second word :\"))\n",
    "print(\"Before swap :\",a,\" \",b)\n",
    "a1=b[:2]+a[2:]\n",
    "b1=a[:2]+b[2:]\n",
    "print(\"After swap :\",a1,\" \",b1)"
   ]
  },
  {
   "cell_type": "code",
   "execution_count": 3,
   "id": "1b84ef2d",
   "metadata": {},
   "outputs": [
    {
     "name": "stdout",
     "output_type": "stream",
     "text": [
      "Enter a word :onion\n",
      "oni$n\n"
     ]
    }
   ],
   "source": [
    "#FIRST CHAR CHANGED\n",
    "string=(input(\"Enter a word :\"))\n",
    "print(string[0]+string[1:].replace(string[0],'$'))"
   ]
  },
  {
   "cell_type": "code",
   "execution_count": 4,
   "id": "63214963",
   "metadata": {},
   "outputs": [
    {
     "name": "stdout",
     "output_type": "stream",
     "text": [
      "Enter the colours:Red,Black,Violet,Yellow\n",
      "The First color is : Red\n",
      "The Last color is : Yellow\n"
     ]
    }
   ],
   "source": [
    "#FIRST AND LAST COLORS\n",
    "a=(input(\"Enter the colours:\").split(\",\"))\n",
    "print(\"The First color is :\",a[0])\n",
    "print(\"The Last color is :\",a[-1])\n"
   ]
  },
  {
   "cell_type": "code",
   "execution_count": 5,
   "id": "5fe9034b",
   "metadata": {},
   "outputs": [
    {
     "name": "stdout",
     "output_type": "stream",
     "text": [
      "Enter the name :name.html\n",
      "extension of name is : html\n"
     ]
    }
   ],
   "source": [
    "#EXTENSION\n",
    "a=(input(\"Enter the name :\"))\n",
    "s=a.split(\".\")\n",
    "print(\"extension of name is :\",s[-1])"
   ]
  },
  {
   "cell_type": "code",
   "execution_count": 6,
   "id": "3d968dfb",
   "metadata": {},
   "outputs": [
    {
     "name": "stdout",
     "output_type": "stream",
     "text": [
      "Enter the elements ;w,e,r,t,y,u,i,o,p\n",
      "The tuple is : ['w', 'e', 'r', 't', 'y', 'u', 'i', 'o', 'p']\n",
      "3rd element of the tuple is : r\n",
      "3rd element from last tuple is : i\n"
     ]
    }
   ],
   "source": [
    "#TUPLE ELEMENTS\n",
    "a=(input(\"Enter the elements ;\").split(\",\"))\n",
    "print(\"The tuple is :\",a)\n",
    "i=a[2]\n",
    "print(\"3rd element of the tuple is :\",i)\n",
    "j=a[-3]\n",
    "print(\"3rd element from last tuple is :\",j)\n"
   ]
  },
  {
   "cell_type": "code",
   "execution_count": 10,
   "id": "f09f62e9",
   "metadata": {},
   "outputs": [
    {
     "name": "stdout",
     "output_type": "stream",
     "text": [
      "Enter the colors in set A(comma seperated):Red,Blue,Orange\n",
      "Enter the colors in set B(comma seperated):Red,Pink,Black\n",
      "Difference of {'Red', 'Orange', 'Blue'} and {'Black', 'Red', 'Pink'}:{'Orange', 'Blue'}\n"
     ]
    }
   ],
   "source": [
    "#COLOR SET\n",
    "A=set(input(\"Enter the colors in set A(comma seperated):\").split(\",\"))\n",
    "B=set(input(\"Enter the colors in set B(comma seperated):\").split(\",\"))\n",
    "difference_A_B=A-B \n",
    "print(f\"Difference of {A} and {B}:{difference_A_B}\")"
   ]
  },
  {
   "cell_type": "code",
   "execution_count": null,
   "id": "e86f3f1e",
   "metadata": {},
   "outputs": [],
   "source": []
  },
  {
   "cell_type": "code",
   "execution_count": null,
   "id": "3610226a",
   "metadata": {},
   "outputs": [],
   "source": []
  },
  {
   "cell_type": "code",
   "execution_count": null,
   "id": "fe8080dc",
   "metadata": {},
   "outputs": [],
   "source": []
  }
 ],
 "metadata": {
  "kernelspec": {
   "display_name": "Python 3 (ipykernel)",
   "language": "python",
   "name": "python3"
  },
  "language_info": {
   "codemirror_mode": {
    "name": "ipython",
    "version": 3
   },
   "file_extension": ".py",
   "mimetype": "text/x-python",
   "name": "python",
   "nbconvert_exporter": "python",
   "pygments_lexer": "ipython3",
   "version": "3.11.5"
  }
 },
 "nbformat": 4,
 "nbformat_minor": 5
}
