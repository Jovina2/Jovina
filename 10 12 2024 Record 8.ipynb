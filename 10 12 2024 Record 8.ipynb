
{
 "cells": [
  {
   "cell_type": "code",
   "execution_count": 5,
   "id": "f6f5d554",
   "metadata": {},
   "outputs": [
    {
     "name": "stdout",
     "output_type": "stream",
     "text": [
      "Enter length of rectangle 1 :2\n",
      "Enter breadth of rectangle 1 :3\n",
      "Enter length of rectangle 2 :4\n",
      "Enter breadth of rectangle 2 :5\n",
      "Area of a rectangle 1 = 6 , Perimeter of rectangle 1 = 10\n",
      "Area of a rectangle 2 = 20 , Perimeter of rectangle 2 = 18\n",
      "Rectangle 2 is greater\n"
     ]
    }
   ],
   "source": [
    "#RECTANGLE CLASS\n",
    "class rectangle():\n",
    "    def get(self,l,b):\n",
    "        self.l=l\n",
    "        self.b=b\n",
    "    def area(self,l,b):\n",
    "        return l*b\n",
    "    def perimeter(self,l,b):\n",
    "        return 2*(l+b)\n",
    "r1=rectangle()\n",
    "r2=rectangle()\n",
    "l1=int(input(\"Enter length of rectangle 1 :\"))\n",
    "b1=int(input(\"Enter breadth of rectangle 1 :\"))\n",
    "l2=int(input(\"Enter length of rectangle 2 :\"))\n",
    "b2=int(input(\"Enter breadth of rectangle 2 :\"))\n",
    "\n",
    "p=r1.area(l1,b1)\n",
    "q=r2.area(l2,b2)\n",
    "\n",
    "u=r1.perimeter(l1,b1)\n",
    "v=r2.perimeter(l2,b2)\n",
    "\n",
    "print(f\"Area of a rectangle 1 = {p} , Perimeter of rectangle 1 = {u}\")\n",
    "print(f\"Area of a rectangle 2 = {q} , Perimeter of rectangle 2 = {v}\")\n",
    "\n",
    "if(p>q):\n",
    "    print(\"Rectangle 1 is greater\")\n",
    "elif(p<q):\n",
    "    print(\"Rectangle 2 is greater\")\n",
    "else:\n",
    "    print(\"Rectangles are equal\")"
   ]
  },
  {
   "cell_type": "code",
   "execution_count": 1,
   "id": "75109858",
   "metadata": {},
   "outputs": [
    {
     "name": "stdout",
     "output_type": "stream",
     "text": [
      "Enter name: abc\n",
      "Enter account number: 1234\n",
      "Enter account type: savings\n",
      "Enter Initial balance: 2000\n",
      "1. Deposit 2. Withdraw 3. Account info 4. Exit\n",
      "Choose your option: 1\n",
      "Deposit amount: 500\n",
      "Initial balance: 2000\n",
      "500 is deposited\n",
      "Current balance: 2500\n",
      "1. Deposit 2. Withdraw 3. Account info 4. Exit\n",
      "Choose your option: 2\n",
      "Withdraw amount: 2500\n",
      "Initial balance: 2500\n",
      "2500 is withdrawn\n",
      "Current balance: 0\n",
      "1. Deposit 2. Withdraw 3. Account info 4. Exit\n",
      "Choose your option: 3\n",
      "Account holder Name: abc\n",
      "Account Number: 1234\n",
      "Account Type: savings\n",
      "Account Balance: 0\n",
      "1. Deposit 2. Withdraw 3. Account info 4. Exit\n",
      "Choose your option: 4\n",
      "Exiting....\n"
     ]
    }
   ],
   "source": [
    "#BANK ACCOUNT\n",
    "class BankAccount:\n",
    "    def __init__(self, a_name, a_no, a_type, a_balance):\n",
    "        self.acc_name = a_name\n",
    "        self.acc_no = a_no\n",
    "        self.acc_type = a_type\n",
    "        self.acc_balance = a_balance\n",
    "\n",
    "    def deposit(self, a_deposit):\n",
    "        print(\"Initial balance:\", self.acc_balance)\n",
    "        self.acc_balance += a_deposit\n",
    "        print(a_deposit, \"is deposited\")\n",
    "        print(\"Current balance:\", self.acc_balance)\n",
    "\n",
    "    def withdraw(self):\n",
    "        self.amount = int(input(\"Withdraw amount: \"))\n",
    "        print(\"Initial balance:\", self.acc_balance)\n",
    "        if self.amount > self.acc_balance:\n",
    "            print(\"You don't have enough balance to withdraw!!\")\n",
    "            print(\"Current balance:\", self.acc_balance)\n",
    "        else:\n",
    "            self.acc_balance -= self.amount\n",
    "            print(self.amount, \"is withdrawn\")\n",
    "            print(\"Current balance:\", self.acc_balance)\n",
    "\n",
    "    def acc_info(self):\n",
    "        print(\"Account holder Name:\", self.acc_name)\n",
    "        print(\"Account Number:\", self.acc_no)\n",
    "        print(\"Account Type:\", self.acc_type)\n",
    "        print(\"Account Balance:\", self.acc_balance)\n",
    "\n",
    "\n",
    "name = input(\"Enter name: \")\n",
    "no = int(input(\"Enter account number: \"))\n",
    "type = input(\"Enter account type: \")\n",
    "bal = int(input(\"Enter Initial balance: \"))\n",
    "holder = BankAccount(name, no, type, bal)\n",
    "\n",
    "while True:\n",
    "    ch = int(input(\"1. Deposit 2. Withdraw 3. Account info 4. Exit\\nChoose your option: \"))\n",
    "    if ch == 1:\n",
    "        amount = int(input(\"Deposit amount: \"))\n",
    "        holder.deposit(amount)\n",
    "    elif ch == 2:\n",
    "        holder.withdraw()\n",
    "    elif ch == 3:\n",
    "        holder.acc_info()\n",
    "    elif ch == 4:\n",
    "        print(\"Exiting....\")\n",
    "        break\n",
    "    else:\n",
    "        print(\"Invalid choice. Please choose a valid option.\")"
   ]
  },
  {
   "cell_type": "code",
   "execution_count": 9,
   "id": "95e99d34",
   "metadata": {},
   "outputs": [
    {
     "name": "stdout",
     "output_type": "stream",
     "text": [
      "Enter publisher name: DC BOOKS\n",
      "Enter book name: PYTHON\n",
      "Enter author name: SAM\n",
      "Enter rate of book: 1000\n",
      "Enter no. of pages: 200\n",
      "Book details \n",
      " Publisher name= DC BOOKS\n",
      "Title= PYTHON\n",
      "Author SAM\n",
      "Rate= 1000\n",
      "No. of pages= 200\n"
     ]
    }
   ],
   "source": [
    "#BOOK PUBLISHER\n",
    "class publisher:\n",
    "    def __init__(self,pname):\n",
    "        self.pubname=pname\n",
    "    def display1(self):\n",
    "        print(\"Book details \\n Publisher name=\",self.pubname)\n",
    "class book(publisher):\n",
    "    def __init__(self,pname,bname,author):\n",
    "        self.title=bname\n",
    "        self.auth=author\n",
    "        publisher.__init__(self,pname)\n",
    "\n",
    "    def display2(self):\n",
    "        print(\"Title=\",self.title)\n",
    "        print(\"Author\",self.auth)\n",
    "\n",
    "class python(book):\n",
    "    def __init__(self,pname,title,au,price,np):\n",
    "        self.rate=price\n",
    "        self.nop=np\n",
    "        book.__init__(self,pname,title,au)\n",
    "    def display3(self):\n",
    "        print(\"Rate=\",self.rate)\n",
    "        print(\"No. of pages=\", self.nop)\n",
    "        \n",
    "p=input(\"Enter publisher name: \")\n",
    "b=input(\"Enter book name: \")\n",
    "a=input(\"Enter author name: \")\n",
    "r=int(input(\"Enter rate of book: \"))\n",
    "n=int(input(\"Enter no. of pages: \"))\n",
    "a=python(p,b,a,r,n)\n",
    "a.display1()\n",
    "a.display2()\n",
    "a.display3()"
   ]
  },
  {
   "cell_type": "code",
   "execution_count": 31,
   "id": "5f4e9f5e",
   "metadata": {},
   "outputs": [
    {
     "name": "stdout",
     "output_type": "stream",
     "text": [
      "Enter length of rectangle1:3\n",
      "Enter Width of rectangle 1 :5\n",
      "Enter length of rectangle 2 :7\n",
      "Enter width of rectangle 2 :9\n",
      "Rectangle 2 is greater\n"
     ]
    }
   ],
   "source": [
    "#COMPARISON\n",
    "class rectangle:\n",
    "    def __init__(self,l,w):\n",
    "        self.length=l\n",
    "        self.width=w\n",
    "        self.a=l*w\n",
    "    def __gt__(self,other):\n",
    "        if self.a <other.a:\n",
    "            print(\"Rectangle 1 is greater\")\n",
    "        else:\n",
    "            print(\"Rectangle 2 is greater\")\n",
    "l1=int(input(\"Enter length of rectangle1:\"))\n",
    "w1=int(input(\"Enter Width of rectangle 1 :\"))\n",
    "l2=int(input(\"Enter length of rectangle 2 :\"))\n",
    "w2=int(input(\"Enter width of rectangle 2 :\"))\n",
    "r1=rectangle(l1,w1)\n",
    "r2=rectangle(l2,w2)\n",
    "r1<r2"
   ]
  },
  {
   "cell_type": "code",
   "execution_count": 13,
   "id": "9fd4d7e4",
   "metadata": {},
   "outputs": [
    {
     "name": "stdout",
     "output_type": "stream",
     "text": [
      "Enter hour 1 :4\n",
      "Enter minute 1 :54\n",
      "Enter second 1 :56\n",
      "Enter hour 2 :3\n",
      "Enter minute 2 :56\n",
      "Enter second 2 :45\n",
      "Added time...\n",
      " Hour: 8 Minute: 50 Second: 41\n"
     ]
    }
   ],
   "source": [
    "#TIME\n",
    "class time:\n",
    "    def __init__(self,hr,mint,sec):\n",
    "        self.__h=hr\n",
    "        self.__m=mint\n",
    "        self.__s=sec\n",
    "    def __add__(self,other):\n",
    "        hh=self.__h+other.__h\n",
    "        ss=self.__s+other.__s\n",
    "        mm=self.__m+other.__m\n",
    "        if(ss>=60):\n",
    "            m=int(ss/60)\n",
    "            ss=ss%60\n",
    "        if(mm>=60):\n",
    "            h=int(mm/60)\n",
    "            mm=mm%60\n",
    "            hh+=h\n",
    "            print(\"Added time...\\n Hour:\",hh,\"Minute:\",mm,\"Second:\",ss)\n",
    "h1=int(input(\"Enter hour 1 :\"))\n",
    "m1=int(input(\"Enter minute 1 :\"))\n",
    "s1=int(input(\"Enter second 1 :\"))\n",
    "h2=int(input(\"Enter hour 2 :\"))\n",
    "m2=int(input(\"Enter minute 2 :\"))\n",
    "s2=int(input(\"Enter second 2 :\"))\n",
    "t1=time(h1,m1,s1)\n",
    "t2=time(h2,m2,s2)\n",
    "t1+t2"
   ]
  },
  {
   "cell_type": "code",
   "execution_count": null,
   "id": "21899df6",
   "metadata": {},
   "outputs": [],
   "source": []
  }
 ],
 "metadata": {
  "kernelspec": {
   "display_name": "Python 3 (ipykernel)",
   "language": "python",
   "name": "python3"
  },
  "language_info": {
   "codemirror_mode": {
    "name": "ipython",
    "version": 3
   },
   "file_extension": ".py",
   "mimetype": "text/x-python",
   "name": "python",
   "nbconvert_exporter": "python",
   "pygments_lexer": "ipython3",
   "version": "3.11.5"
  }
 },
 "nbformat": 4,
 "nbformat_minor": 5
}
