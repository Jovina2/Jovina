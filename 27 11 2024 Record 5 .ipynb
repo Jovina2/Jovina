
{
 "cells": [
  {
   "cell_type": "code",
   "execution_count": 6,
   "id": "26584870",
   "metadata": {},
   "outputs": [
    {
     "name": "stdout",
     "output_type": "stream",
     "text": [
      "Enter the first number :60\n",
      "Enter the second number :45\n",
      "GCD of 60 and 45 is 15\n"
     ]
    }
   ],
   "source": [
    "#GCD OF TWO NUMBERS\n",
    "import math\n",
    "num1 =int(input(\"Enter the first number :\"))\n",
    "num2 =int(input(\"Enter the second number :\"))\n",
    "gcd=math.gcd(num1,num2)\n",
    "print(f\"GCD of {num1} and {num2} is {gcd}\")"
   ]
  },
  {
   "cell_type": "code",
   "execution_count": 13,
   "id": "085dfea8",
   "metadata": {},
   "outputs": [
    {
     "name": "stdout",
     "output_type": "stream",
     "text": [
      "Enter the numbers (comma separated): 44,35,98,10,55\n",
      "Original list: [44, 35, 98, 10, 55]\n",
      "List after removing EVEN numbers: [35, 55]\n"
     ]
    }
   ],
   "source": [
    "#LIST REMOVING EVEN NUMBERS \n",
    "list = input(\"Enter the numbers (comma separated): \").split(',')\n",
    "list = [int(i) for i in list] \n",
    "print(\"Original list:\", list)\n",
    "list = [i for i in list if i % 2 != 0]\n",
    "print(\"List after removing EVEN numbers:\", list)"
   ]
  },
  {
   "cell_type": "code",
   "execution_count": 10,
   "id": "1ca66d62",
   "metadata": {},
   "outputs": [
    {
     "name": "stdout",
     "output_type": "stream",
     "text": [
      "Enter the list of items:1 3 6 8 4 \n",
      "The sum of all items is: 22\n"
     ]
    }
   ],
   "source": [
    "#SUM OF ALL ITEMS\n",
    "num=list(map(int,input(\"Enter the list of items:\").split())) \n",
    "total_sum=sum(num) \n",
    "print(\"The sum of all items is:\",total_sum)  "
   ]
  },
  {
   "cell_type": "code",
   "execution_count": 14,
   "id": "dc9e0c50",
   "metadata": {},
   "outputs": [
    {
     "name": "stdout",
     "output_type": "stream",
     "text": [
      "Enter the starting index :1000\n",
      "Enter the ending index :9999\n",
      "Four Digit numbers with even perfect squares : [4624, 6084, 6400, 8464]\n"
     ]
    }
   ],
   "source": [
    "#LIST OF FOUR DIGIT NUMBERS \n",
    "start=int(input(\"Enter the starting index :\"))\n",
    "end=int(input(\"Enter the ending index :\"))\n",
    "start=max(1000,start)\n",
    "end=min(9999,end)\n",
    "result=[]\n",
    "for x in range(start,end+1): \n",
    "    if int(math.sqrt(x))**2==x and all(int(digit) % 2==0 for digit in str(x)):\n",
    "       result.append(x)\n",
    "print(\"Four Digit numbers with even perfect squares :\",result)"
   ]
  },
  {
   "cell_type": "code",
   "execution_count": 1,
   "id": "635c4f86",
   "metadata": {},
   "outputs": [
    {
     "name": "stdout",
     "output_type": "stream",
     "text": [
      "Enter a string :Appearance\n",
      "[e] occurs :2 times\n",
      "[c] occurs :1 times\n",
      "[A] occurs :1 times\n",
      "[p] occurs :2 times\n",
      "[a] occurs :2 times\n",
      "[r] occurs :1 times\n",
      "[n] occurs :1 times\n"
     ]
    }
   ],
   "source": [
    "#COUNT THE NUMBER OF CHARACTERS \n",
    "word=input(\"Enter a string :\")\n",
    "count=[]\n",
    "for char in set(word):\n",
    "    print(f\"[{char}] occurs :{word.count(char)} times\")"
   ]
  },
  {
   "cell_type": "code",
   "execution_count": 7,
   "id": "0d8d2b81",
   "metadata": {},
   "outputs": [
    {
     "name": "stdout",
     "output_type": "stream",
     "text": [
      "Enter a string :Reading\n",
      "Word : readingly\n"
     ]
    }
   ],
   "source": [
    "#ADD ING AT THE END \n",
    "word=input(\"Enter a string :\").lower()\n",
    "if word.endswith(\"ing\"):\n",
    "    print(\"Word :\",word + \"ly\")\n",
    "else:\n",
    "    print(\"Word :\",word + \"ing\")"
   ]
  },
  {
   "cell_type": "code",
   "execution_count": null,
   "id": "e3b005f8",
   "metadata": {},
   "outputs": [],
   "source": []
  }
 ],
 "metadata": {
  "kernelspec": {
   "display_name": "Python 3 (ipykernel)",
   "language": "python",
   "name": "python3"
  },
  "language_info": {
   "codemirror_mode": {
    "name": "ipython",
    "version": 3
   },
   "file_extension": ".py",
   "mimetype": "text/x-python",
   "name": "python",
   "nbconvert_exporter": "python",
   "pygments_lexer": "ipython3",
   "version": "3.11.5"
  }
 },
 "nbformat": 4,
 "nbformat_minor": 5
}
