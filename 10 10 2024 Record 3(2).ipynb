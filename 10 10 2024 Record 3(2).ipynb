{
 "cells": [
  {
   "cell_type": "code",
   "execution_count": 4,
   "id": "6732a466",
   "metadata": {},
   "outputs": [
    {
     "name": "stdout",
     "output_type": "stream",
     "text": [
      "Enter 5 student names seperated by spaces :Anu Jacob Dany Ziya Raj\n",
      "Students sorted in ascending order : {'Anu': 1, 'Dany': 3, 'Jacob': 2, 'Raj': 5, 'Ziya': 4}\n",
      "Students sorted in descending order : {'Ziya': 4, 'Raj': 5, 'Jacob': 2, 'Dany': 3, 'Anu': 1}\n"
     ]
    }
   ],
   "source": [
    "#SORT DICTIONARY\n",
    "student_names=(input(\"Enter 5 student names seperated by spaces :\").split())\n",
    "students=dict(zip(student_names,range(1,6)))\n",
    "sorted_students_asc=dict(sorted(students.items()))\n",
    "sorted_students_desc=dict(sorted(students.items(), reverse=True))\n",
    "print(\"Students sorted in ascending order :\",sorted_students_asc)\n",
    "print(\"Students sorted in descending order :\",sorted_students_desc)"
   ]
  },
  {
   "cell_type": "code",
   "execution_count": 8,
   "id": "e9cd9d3e",
   "metadata": {},
   "outputs": [
    {
     "name": "stdout",
     "output_type": "stream",
     "text": [
      "Enter 3 student names seperated by spaces :Anu Dany ziya\n",
      "Enter 2 student names seperated by spaces :Jacob Raj\n",
      "Merged Dictionary is : {'Anu': 1, 'Dany': 2, 'ziya': 3}\n"
     ]
    }
   ],
   "source": [
    "#MERGE DICTIONARY\n",
    "student_names1=input(\"Enter 3 student names seperated by spaces :\").split()\n",
    "student_names2=input(\"Enter 2 student names seperated by spaces :\").split()\n",
    "students=dict(zip(student_names1, range(1,len(student_names1)+1)))\n",
    "students1=dict(zip(student_names2,range(len(student_names)+1,len(student_names2)+1)))\n",
    "merged_students={**students,**students}\n",
    "print(\"Merged Dictionary is :\",merged_students)"
   ]
  },
  {
   "cell_type": "code",
   "execution_count": 1,
   "id": "0f9fe5fb",
   "metadata": {},
   "outputs": [
    {
     "name": "stdout",
     "output_type": "stream",
     "text": [
      "Even numbers from 1-25 : [2, 4, 6, 8, 10, 12, 14, 16, 18, 20, 22, 24]\n",
      "Sum of even numbers : 156\n"
     ]
    }
   ],
   "source": [
    "#PRINT EVEN NUMBERS\n",
    "num=list(range(2,26,2))\n",
    "print(\"Even numbers from 1-25 :\",num)\n",
    "total_sum=sum(num)\n",
    "print(\"Sum of even numbers :\",total_sum)"
   ]
  },
  {
   "cell_type": "code",
   "execution_count": null,
   "id": "bea483c9",
   "metadata": {},
   "outputs": [],
   "source": []
  }
 ],
 "metadata": {
  "kernelspec": {
   "display_name": "Python 3 (ipykernel)",
   "language": "python",
   "name": "python3"
  },
  "language_info": {
   "codemirror_mode": {
    "name": "ipython",
    "version": 3
   },
   "file_extension": ".py",
   "mimetype": "text/x-python",
   "name": "python",
   "nbconvert_exporter": "python",
   "pygments_lexer": "ipython3",
   "version": "3.11.5"
  }
 },
 "nbformat": 4,
 "nbformat_minor": 5
}
