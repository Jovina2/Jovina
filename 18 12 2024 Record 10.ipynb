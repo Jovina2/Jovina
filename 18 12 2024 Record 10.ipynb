{
 "cells": [
  {
   "cell_type": "code",
   "execution_count": 16,
   "id": "3a00b5c7",
   "metadata": {},
   "outputs": [
    {
     "name": "stdout",
     "output_type": "stream",
     "text": [
      "Enter first number:10\n",
      "Enter second number:0\n",
      "Error:You cannot divide by zero !\n",
      "End of Program\n"
     ]
    }
   ],
   "source": [
    "try:\n",
    "    num=int(input(\"Enter first number:\"))\n",
    "    num2=int(input(\"Enter second number:\"))\n",
    "    result=num/num2\n",
    "except ZeroDivisionError:\n",
    "    print(\"Error:You cannot divide by zero !\")\n",
    "except ValueError:\n",
    "    print(\"Error:invalid input.Please enter numeric values\")\n",
    "else:\n",
    "    print(f\"Result:{result}\")\n",
    "finally:\n",
    "    print(\"End of Program\")"
   ]
  },
  {
   "cell_type": "code",
   "execution_count": 18,
   "id": "17562ca0",
   "metadata": {},
   "outputs": [
    {
     "name": "stdout",
     "output_type": "stream",
     "text": [
      "Pattern found!\n"
     ]
    }
   ],
   "source": [
    "import re\n",
    "pattern=r\"hello\"\n",
    "text=\"hello world\"\n",
    "if re.match(pattern,text):\n",
    "    print(\"Pattern found!\")\n",
    "else:\n",
    "    print(\"Pattern not found\")"
   ]
  },
  {
   "cell_type": "code",
   "execution_count": null,
   "id": "0f54fb8a",
   "metadata": {},
   "outputs": [],
   "source": []
  }
 ],
 "metadata": {
  "kernelspec": {
   "display_name": "Python 3 (ipykernel)",
   "language": "python",
   "name": "python3"
  },
  "language_info": {
   "codemirror_mode": {
    "name": "ipython",
    "version": 3
   },
   "file_extension": ".py",
   "mimetype": "text/x-python",
   "name": "python",
   "nbconvert_exporter": "python",
   "pygments_lexer": "ipython3",
   "version": "3.11.5"
  }
 },
 "nbformat": 4,
 "nbformat_minor": 5
}
