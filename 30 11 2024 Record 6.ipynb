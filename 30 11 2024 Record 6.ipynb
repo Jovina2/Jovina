
{
 "cells": [
  {
   "cell_type": "code",
   "execution_count": 5,
   "id": "848bed80",
   "metadata": {},
   "outputs": [
    {
     "name": "stdout",
     "output_type": "stream",
     "text": [
      "Enter the final year: 2040\n",
      "Enter the current year: 2024\n",
      "Leap years from current year to final year:\n",
      "[2024, 2028, 2032, 2036, 2040]\n"
     ]
    }
   ],
   "source": [
    "#FUTURE LEAP YEARS\n",
    "def is_leap(year):\n",
    "    return (year % 4 == 0 and year % 100 != 0) or (year % 400 == 0)\n",
    "\n",
    "def find_leap_years(final_year):\n",
    "    current_year = int(input(\"Enter the current year: \"))\n",
    "    leap_years = []\n",
    "    for year in range(current_year, final_year + 1):\n",
    "        if is_leap(year):\n",
    "            leap_years.append(year)\n",
    "    return leap_years\n",
    "\n",
    "final_year = int(input(\"Enter the final year: \"))\n",
    "leap_years = find_leap_years(final_year)\n",
    "print(\"Leap years from current year to final year:\")\n",
    "print(leap_years)"
   ]
  },
  {
   "cell_type": "code",
   "execution_count": 3,
   "id": "e3a398a8",
   "metadata": {},
   "outputs": [
    {
     "name": "stdout",
     "output_type": "stream",
     "text": [
      "Enter a number :5\n",
      "The factorial of 5 is 120\n"
     ]
    }
   ],
   "source": [
    "#FACTORIAL\n",
    "def factorial(n):\n",
    "    if n ==0 or n == 1:\n",
    "        return 1\n",
    "    else:\n",
    "        return n * factorial(n-1)\n",
    "a=int(input(\"Enter a number :\"))\n",
    "result=factorial(a)\n",
    "print(f\"The factorial of {a} is {result}\")"
   ]
  },
  {
   "cell_type": "code",
   "execution_count": 10,
   "id": "a95b53d8",
   "metadata": {},
   "outputs": [
    {
     "name": "stdout",
     "output_type": "stream",
     "text": [
      "Enter the number of terms: 7\n",
      "Fibonacci Series:\n",
      "[0, 1, 1, 2, 3, 5, 8]\n"
     ]
    }
   ],
   "source": [
    "#FIBONACCI\n",
    "def fibonacci_series(n):\n",
    "    fib_sequence = []\n",
    "    a, b = 0, 1\n",
    "    for i in range(n):\n",
    "        fib_sequence.append(a)\n",
    "        a, b = b, a + b\n",
    "    return fib_sequence\n",
    "\n",
    "N = int(input(\"Enter the number of terms: \"))\n",
    "fib_sequence = fibonacci_series(N)\n",
    "print(\"Fibonacci Series:\")\n",
    "print(fib_sequence)"
   ]
  },
  {
   "cell_type": "code",
   "execution_count": 1,
   "id": "374db1d6",
   "metadata": {},
   "outputs": [
    {
     "name": "stdout",
     "output_type": "stream",
     "text": [
      "Enter the words: Apple Banana Greenapple Grapes\n",
      "Length of the longest word is : 10\n"
     ]
    }
   ],
   "source": [
    "#LONGEST WORD\n",
    "def longest_word_length(words):\n",
    "    return len(max(words, key=len))\n",
    "words = input(\"Enter the words: \").split()\n",
    "print(\"Length of the longest word is :\",longest_word_length(words))"
   ]
  },
  {
   "cell_type": "code",
   "execution_count": 5,
   "id": "6eeef004",
   "metadata": {},
   "outputs": [
    {
     "name": "stdout",
     "output_type": "stream",
     "text": [
      "* \n",
      "* * \n",
      "* * * \n",
      "* * * * \n",
      "* * * * * \n",
      "* * * * \n",
      "* * * \n",
      "* * \n",
      "* \n"
     ]
    }
   ],
   "source": [
    "#PATTERN\n",
    "def print_upper_half(n):\n",
    "    for i in range(1,n+1):\n",
    "        for j in range(i):\n",
    "            print(\"*\",end=\" \")\n",
    "        print()\n",
    "def print_lower_half(n):\n",
    "    for i in range(n-1,0,-1):\n",
    "        for j in range(i):\n",
    "            print(\"*\",end=\" \")\n",
    "        print()\n",
    "def print_pattern(n):\n",
    "    print_upper_half(n)\n",
    "    print_lower_half(n)\n",
    "n=5\n",
    "print_pattern(n)"
   ]
  },
  {
   "cell_type": "code",
   "execution_count": 10,
   "id": "22c5c7a5",
   "metadata": {},
   "outputs": [
    {
     "name": "stdout",
     "output_type": "stream",
     "text": [
      "Enter a number :24\n",
      "Factors of 24 are:[1, 2, 3, 4, 6, 8, 12, 24]\n"
     ]
    }
   ],
   "source": [
    "#FACTORS\n",
    "def generate_factors(num):\n",
    "    factors=[]\n",
    "    for i in range(1,num+1):\n",
    "        if num % i == 0:\n",
    "            factors.append(i)\n",
    "    return factors\n",
    "num=int(input(\"Enter a number :\"))\n",
    "factors=generate_factors(num)\n",
    "print(f\"Factors of {num} are:{factors}\")"
   ]
  },
  {
   "cell_type": "code",
   "execution_count": 12,
   "id": "a7ada4dd",
   "metadata": {},
   "outputs": [
    {
     "name": "stdout",
     "output_type": "stream",
     "text": [
      "Enter the number of steps(N):5\n",
      "1\n",
      "2\t4\n",
      "3\t6\t9\n",
      "4\t8\t12\t16\n",
      "5\t10\t15\t20\t25\n"
     ]
    }
   ],
   "source": [
    "#PYRAMID\n",
    "def print_pyramid(N):\n",
    "    for i in range(1,N + 1):\n",
    "        row=[]\n",
    "        for j in range(1,i + 1):\n",
    "            row.append(i * j)\n",
    "        print(\"\\t\".join(map(str,row)))\n",
    "N=int(input(\"Enter the number of steps(N):\"))\n",
    "print_pyramid(N)"
   ]
  },
  {
   "cell_type": "code",
   "execution_count": 6,
   "id": "c712ec8a",
   "metadata": {},
   "outputs": [
    {
     "name": "stdout",
     "output_type": "stream",
     "text": [
      "Enter the side :4\n",
      "Enter the length :5\n",
      "Enter the width :3\n",
      "Enter the base :6\n",
      "Enter the height :4\n",
      "Area of Square is :16\n",
      "Area of Rectangle is :15\n",
      "Area of Triangle is :12.0\n"
     ]
    }
   ],
   "source": [
    "#LAMBDA FUNCTIONS\n",
    "def area_of_square(side):\n",
    "    return side ** 2\n",
    "def area_of_rectangle(length, width):\n",
    "    return length * width\n",
    "def area_of_triangle(base, height):\n",
    "    return 0.5 * base * height\n",
    "\n",
    "a=int(input(\"Enter the side :\"))\n",
    "b=int(input(\"Enter the length :\"))\n",
    "c=int(input(\"Enter the width :\"))\n",
    "e=int(input(\"Enter the base :\"))\n",
    "f=int(input(\"Enter the height :\"))\n",
    "square_area=area_of_square(a)\n",
    "rectangle_area=area_of_rectangle(b,c)\n",
    "triangle_area=area_of_triangle(e,f)\n",
    "print(f\"Area of Square is :{square_area}\")\n",
    "print(f\"Area of Rectangle is :{rectangle_area}\")\n",
    "print(f\"Area of Triangle is :{triangle_area}\")"
   ]
  },
  {
   "cell_type": "code",
   "execution_count": null,
   "id": "bde2b98a",
   "metadata": {},
   "outputs": [],
   "source": []
  }
 ],
 "metadata": {
  "kernelspec": {
   "display_name": "Python 3 (ipykernel)",
   "language": "python",
   "name": "python3"
  },
  "language_info": {
   "codemirror_mode": {
    "name": "ipython",
    "version": 3
   },
   "file_extension": ".py",
   "mimetype": "text/x-python",
   "name": "python",
   "nbconvert_exporter": "python",
   "pygments_lexer": "ipython3",
   "version": "3.11.5"
  }
 },
 "nbformat": 4,
 "nbformat_minor": 5
}
