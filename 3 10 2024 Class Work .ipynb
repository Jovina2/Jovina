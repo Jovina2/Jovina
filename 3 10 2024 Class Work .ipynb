{
 "cells": [
  {
   "cell_type": "code",
   "execution_count": 8,
   "id": "489d45bb",
   "metadata": {},
   "outputs": [
    {
     "name": "stdout",
     "output_type": "stream",
     "text": [
      "Enter a number: 5\n",
      "Positive number\n"
     ]
    }
   ],
   "source": [
    "#POSITIVE AND NEGATIVE\n",
    "num = float(input(\"Enter a number: \"))\n",
    "if num > 0:\n",
    " print(\"Positive number\")\n",
    "elif num == 0:\n",
    " print(\"Zero\")\n",
    "else:\n",
    " print(\"Negative number\")"
   ]
  },
  {
   "cell_type": "code",
   "execution_count": 2,
   "id": "ee4c3bc4",
   "metadata": {},
   "outputs": [
    {
     "name": "stdout",
     "output_type": "stream",
     "text": [
      "Enter a number: 6\n",
      "6 is Even\n"
     ]
    }
   ],
   "source": [
    "#ODD OR EVEN\n",
    "num = int(input(\"Enter a number: \"))\n",
    "if (num % 2) == 0:\n",
    "   print(\"{0} is Even\".format(num))\n",
    "else:\n",
    "   print(\"{0} is Odd\".format(num))"
   ]
  },
  {
   "cell_type": "code",
   "execution_count": 3,
   "id": "b79aa84b",
   "metadata": {},
   "outputs": [
    {
     "name": "stdout",
     "output_type": "stream",
     "text": [
      "Enter value of x :5\n",
      "Enter value of y :9\n",
      "The value of x after swapping :9\n",
      "The value of y after swapping :5\n"
     ]
    }
   ],
   "source": [
    "#SWAPPING\n",
    "x=input(\"Enter value of x :\")\n",
    "y=input(\"Enter value of y :\")\n",
    "temp=x\n",
    "x=y\n",
    "y=temp\n",
    "print(\"The value of x after swapping :{}\".format(x))\n",
    "print(\"The value of y after swapping :{}\".format(y))"
   ]
  },
  {
   "cell_type": "code",
   "execution_count": 6,
   "id": "6b4ac25a",
   "metadata": {},
   "outputs": [
    {
     "name": "stdout",
     "output_type": "stream",
     "text": [
      "Enter the number :6\n",
      "Square of given number is : 36\n"
     ]
    }
   ],
   "source": [
    "#SQUARE OF A NUMBER\n",
    "n=int(input(\"Enter the number :\"))\n",
    "print(\"Square of given number is :\",n*n)"
   ]
  },
  {
   "cell_type": "code",
   "execution_count": null,
   "id": "7c306e29",
   "metadata": {},
   "outputs": [],
   "source": []
  }
 ],
 "metadata": {
  "kernelspec": {
   "display_name": "Python 3 (ipykernel)",
   "language": "python",
   "name": "python3"
  },
  "language_info": {
   "codemirror_mode": {
    "name": "ipython",
    "version": 3
   },
   "file_extension": ".py",
   "mimetype": "text/x-python",
   "name": "python",
   "nbconvert_exporter": "python",
   "pygments_lexer": "ipython3",
   "version": "3.11.5"
  }
 },
 "nbformat": 4,
 "nbformat_minor": 5
}
