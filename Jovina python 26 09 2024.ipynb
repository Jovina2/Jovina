{
 "cells": [
  {
   "cell_type": "code",
   "execution_count": 10,
   "id": "85f92b67",
   "metadata": {},
   "outputs": [
    {
     "name": "stdout",
     "output_type": "stream",
     "text": [
      "Enter side of square :5\n",
      "Area of square is : 25.0\n"
     ]
    }
   ],
   "source": [
    "length=float(input(\"Enter side of square :\"))\n",
    "area=length*length\n",
    "print(\"Area of square is :\",area)"
   ]
  },
  {
   "cell_type": "code",
   "execution_count": 9,
   "id": "1010993a",
   "metadata": {},
   "outputs": [
    {
     "name": "stdout",
     "output_type": "stream",
     "text": [
      "Enter base of triangle :5\n",
      "Enter height of triangle :6\n",
      "Area of right angled triangle is : 15.0\n"
     ]
    }
   ],
   "source": [
    "base=float(input(\"Enter base of triangle :\"))\n",
    "height=float(input(\"Enter height of triangle :\"))\n",
    "print(\"Area of right angled triangle is :\",(base*height)/2)"
   ]
  },
  {
   "cell_type": "code",
   "execution_count": 4,
   "id": "132f151f",
   "metadata": {},
   "outputs": [
    {
     "name": "stdout",
     "output_type": "stream",
     "text": [
      "Enter your name :Jovina\n",
      "Hello Jovina !\n"
     ]
    }
   ],
   "source": [
    "user=input(\"Enter your name :\")\n",
    "print(\"Hello\",user,\"!\")"
   ]
  },
  {
   "cell_type": "code",
   "execution_count": 5,
   "id": "523676d1",
   "metadata": {},
   "outputs": [
    {
     "name": "stdout",
     "output_type": "stream",
     "text": [
      "Enter an integer :6\n",
      "previous number is : 5\n",
      "The next number is : 7\n"
     ]
    }
   ],
   "source": [
    "num=int(input(\"Enter an integer :\"))\n",
    "previous=num-1\n",
    "next=num+1\n",
    "print(\"previous number is :\",previous)\n",
    "print(\"The next number is :\",next)"
   ]
  },
  {
   "cell_type": "code",
   "execution_count": 8,
   "id": "e416309e",
   "metadata": {},
   "outputs": [
    {
     "name": "stdout",
     "output_type": "stream",
     "text": [
      "Enter the principal amount :1000\n",
      "Enter the rate of interest :5\n",
      "Enter the time :2\n",
      "The simple Interest is : 100.0\n"
     ]
    }
   ],
   "source": [
    "P=int(input(\"Enter the principal amount :\"))\n",
    "R=int(input(\"Enter the rate of interest :\"))\n",
    "t=int(input(\"Enter the time :\"))\n",
    "SI=P*R*t/100\n",
    "print(\"The simple Interest is :\",SI)"
   ]
  },
  {
   "cell_type": "code",
   "execution_count": null,
   "id": "257182f7",
   "metadata": {},
   "outputs": [],
   "source": []
  }
 ],
 "metadata": {
  "kernelspec": {
   "display_name": "Python 3 (ipykernel)",
   "language": "python",
   "name": "python3"
  },
  "language_info": {
   "codemirror_mode": {
    "name": "ipython",
    "version": 3
   },
   "file_extension": ".py",
   "mimetype": "text/x-python",
   "name": "python",
   "nbconvert_exporter": "python",
   "pygments_lexer": "ipython3",
   "version": "3.11.5"
  }
 },
 "nbformat": 4,
 "nbformat_minor": 5
}

