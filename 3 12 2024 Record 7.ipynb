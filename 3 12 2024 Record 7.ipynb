{
 "cells": [
  {
   "cell_type": "code",
   "execution_count": 2,
   "id": "617bc959",
   "metadata": {},
   "outputs": [
    {
     "name": "stdout",
     "output_type": "stream",
     "text": [
      "1.Rectangle\n",
      "2.Circle\n",
      "3.Exit\n",
      "Enter your choice:1\n",
      "Enter Length :3\n",
      "Enter Breadth :4\n",
      "Area of Rectangle: 12\n",
      "Perimeter of Rectangle: 24\n",
      "1.Rectangle\n",
      "2.Circle\n",
      "3.Exit\n",
      "Enter your choice:2\n",
      "Enter radius :4\n",
      "Area of Circle: 50.24\n",
      "Perimeter of circle: 25.12\n",
      "1.Rectangle\n",
      "2.Circle\n",
      "3.Exit\n",
      "Enter your choice:3\n",
      "Exiting...\n"
     ]
    }
   ],
   "source": [
    "#MODULES\n",
    "import rectangle1\n",
    "import circle1\n",
    "while(1):\n",
    "    print(\"1.Rectangle\\n2.Circle\\n3.Exit\")\n",
    "    ch=int(input(\"Enter your choice:\"))\n",
    "    if ch==1:\n",
    "        l=int(input(\"Enter Length :\"))\n",
    "        b=int(input(\"Enter Breadth :\"))\n",
    "        rectangle1.rectarea(l,b)\n",
    "        rectangle1.rectperi(l,b)\n",
    "    elif ch==2:\n",
    "        r=int(input(\"Enter radius :\"))\n",
    "        circle1.circlearea(r)\n",
    "        circle1.circleperi(r)\n",
    "    else:\n",
    "        print(\"Exiting...\")\n",
    "        break"
   ]
  },
  {
   "cell_type": "code",
   "execution_count": null,
   "id": "c0451e9c",
   "metadata": {},
   "outputs": [],
   "source": []
  }
 ],
 "metadata": {
  "kernelspec": {
   "display_name": "Python 3 (ipykernel)",
   "language": "python",
   "name": "python3"
  },
  "language_info": {
   "codemirror_mode": {
    "name": "ipython",
    "version": 3
   },
   "file_extension": ".py",
   "mimetype": "text/x-python",
   "name": "python",
   "nbconvert_exporter": "python",
   "pygments_lexer": "ipython3",
   "version": "3.11.5"
  }
 },
 "nbformat": 4,
 "nbformat_minor": 5
}
