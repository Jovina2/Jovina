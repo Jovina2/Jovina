
{
 "cells": [
  {
   "cell_type": "code",
   "execution_count": 3,
   "id": "91bead92",
   "metadata": {},
   "outputs": [
    {
     "name": "stdout",
     "output_type": "stream",
     "text": [
      "1.Rectangle\n",
      "2.Circle\n",
      "3.Cuboid\n",
      "4.Sphere\n",
      "5.Exit\n",
      "Enter your choice:1\n",
      "Enter length:4\n",
      "Enter breadth:5\n",
      "Area of Rectangle: 20\n",
      "Perimeter of Rectangle: 40\n",
      "1.Rectangle\n",
      "2.Circle\n",
      "3.Cuboid\n",
      "4.Sphere\n",
      "5.Exit\n",
      "Enter your choice:2\n",
      "Enter radius:4\n",
      "Area of Circle: 50.24\n",
      "Perimeter of circle: 25.12\n",
      "1.Rectangle\n",
      "2.Circle\n",
      "3.Cuboid\n",
      "4.Sphere\n",
      "5.Exit\n",
      "Enter your choice:3\n",
      "Enter length :4\n",
      "Enter breadth :5\n",
      "Enter height :3\n",
      "Area of cuboid : 94\n",
      "Area of cuboid : 48\n",
      "1.Rectangle\n",
      "2.Circle\n",
      "3.Cuboid\n",
      "4.Sphere\n",
      "5.Exit\n",
      "Enter your choice:4\n",
      "Enter radius:3\n",
      "Area of spheree: 56.519999999999996\n",
      "Perimeter of sphere: 113.04\n",
      "1.Rectangle\n",
      "2.Circle\n",
      "3.Cuboid\n",
      "4.Sphere\n",
      "5.Exit\n",
      "Enter your choice:5\n",
      "Exiting....\n"
     ]
    }
   ],
   "source": [
    "#PACKAGES\n",
    "from Ksb import rectangle1\n",
    "from Ksb import circle1\n",
    "from Ksb.ABC import cuboid1\n",
    "from Ksb.ABC import sphere\n",
    "\n",
    "while(1):\n",
    "    print(\"1.Rectangle\\n2.Circle\\n3.Cuboid\\n4.Sphere\\n5.Exit\")\n",
    "    ch=int(input(\"Enter your choice:\"))\n",
    "    if ch==1:\n",
    "        l=int(input(\"Enter length:\"))\n",
    "        b=int(input(\"Enter breadth:\"))\n",
    "        rectangle1.rectarea(l,b)\n",
    "        rectangle1.rectperi(l,b)\n",
    "    elif ch==2:\n",
    "        r=int(input(\"Enter radius:\"))  \n",
    "        circle1.circlearea(r)\n",
    "        circle1.circleperi(r)\n",
    "    elif ch==3:\n",
    "        l=int(input(\"Enter length :\"))\n",
    "        b=int(input(\"Enter breadth :\"))\n",
    "        h=int(input(\"Enter height :\"))\n",
    "        cuboid1.cuboidarea(l,b,h)\n",
    "        cuboid1.cuboidperi(l,b,h)\n",
    "    elif ch==4:\n",
    "        r=int(input(\"Enter radius:\"))  \n",
    "        sphere.spherearea(r)\n",
    "        sphere.sphereperi(r)\n",
    "    else:\n",
    "        print(\"Exiting....\")\n",
    "        break"
   ]
  },
  {
   "cell_type": "code",
   "execution_count": null,
   "id": "c686149a",
   "metadata": {},
   "outputs": [],
   "source": []
  }
 ],
 "metadata": {
  "kernelspec": {
   "display_name": "Python 3 (ipykernel)",
   "language": "python",
   "name": "python3"
  },
  "language_info": {
   "codemirror_mode": {
    "name": "ipython",
    "version": 3
   },
   "file_extension": ".py",
   "mimetype": "text/x-python",
   "name": "python",
   "nbconvert_exporter": "python",
   "pygments_lexer": "ipython3",
   "version": "3.11.5"
  }
 },
 "nbformat": 4,
 "nbformat_minor": 5
}
