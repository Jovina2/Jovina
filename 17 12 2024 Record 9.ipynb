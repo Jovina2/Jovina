
{
 "cells": [
  {
   "cell_type": "code",
   "execution_count": 4,
   "id": "a65724b9",
   "metadata": {},
   "outputs": [
    {
     "name": "stdout",
     "output_type": "stream",
     "text": [
      "enter filename: abc.txt\n",
      "The file stored as list:  ['welcome', 'hi']\n"
     ]
    }
   ],
   "source": [
    "r=input(\"enter filename: \")\n",
    "r=open(r,\"r\")\n",
    "lines = r.readlines()\n",
    "lines = [line.strip() for line in lines]\n",
    "print(\"The file stored as list: \",lines)\n",
    "r.close()"
   ]
  },
  {
   "cell_type": "code",
   "execution_count": 6,
   "id": "380ea519",
   "metadata": {},
   "outputs": [
    {
     "name": "stdout",
     "output_type": "stream",
     "text": [
      "enter filename1: abc.txt\n",
      "enter filename2: new.txt\n",
      "copied odd lines of file1 to file2\n"
     ]
    }
   ],
   "source": [
    "f1=open(input(\"enter filename1: \"),\"r\")\n",
    "f2=open(input(\"enter filename2: \"),\"w\")\n",
    "ln=1\n",
    "f=f1.readlines\n",
    "line_num = 1\n",
    "for line in f1:\n",
    "    if line_num % 2 != 0:\n",
    "        f2.write(line)\n",
    "    line_num += 1\n",
    "print(\"copied odd lines of file1 to file2\")\n",
    "f1.close()\n",
    "f2.close()"
   ]
  },
  {
   "cell_type": "code",
   "execution_count": 11,
   "id": "3508488c",
   "metadata": {},
   "outputs": [
    {
     "name": "stdout",
     "output_type": "stream",
     "text": [
      "each row of pr3.csv file\n",
      "\n",
      "['name', 'city']\n",
      "['aysha ', 'kunnamangalam']\n",
      "['ami', 'kochi']\n",
      "['linto', 'calicut']\n"
     ]
    }
   ],
   "source": [
    "import csv\n",
    "file=open('pr3.csv', 'r') \n",
    "row=csv.reader(file)\n",
    "\n",
    "print(\"each row of pr3.csv file\\n\")\n",
    "for r in row:\n",
    "    print(r)"
   ]
  },
  {
   "cell_type": "code",
   "execution_count": 14,
   "id": "8af66e75",
   "metadata": {},
   "outputs": [
    {
     "name": "stdout",
     "output_type": "stream",
     "text": [
      "1st and 2nd columns of pr3.csv file\n",
      "\n",
      "|name       | city      |\n",
      "|aysha      | kunnamangalam|\n",
      "|ami        | kochi     |\n",
      "|linto      | calicut   |\n"
     ]
    }
   ],
   "source": [
    "import csv\n",
    "\n",
    "file = open('pr3.csv', 'r')\n",
    "rows = csv.reader(file)\n",
    "print(\"1st and 2nd columns of pr3.csv file\\n\")\n",
    "for row in rows:\n",
    "    print(f\"|{row[0]:<10} | {row[1]:<10}|\") "
   ]
  },
  {
   "cell_type": "code",
   "execution_count": 15,
   "id": "84110131",
   "metadata": {},
   "outputs": [
    {
     "name": "stdout",
     "output_type": "stream",
     "text": [
      "Enter names: aysha ami linto\n",
      "Enter cities: kunnamangalam kochi calicut\n",
      "\n",
      "The content of the file: \n",
      "['Name', 'City']\n",
      "['aysha', 'kunnamangalam']\n",
      "['ami', 'kochi']\n",
      "['linto', 'calicut']\n"
     ]
    }
   ],
   "source": [
    "import csv\n",
    "\n",
    "data = dict(zip(input(\"Enter names: \").split(), input(\"Enter cities: \").split()))\n",
    "\n",
    "with open('output.csv', 'w', newline='') as f:\n",
    "    w = csv.writer(f)\n",
    "    w.writerow([\"Name\", \"City\"])\n",
    "    w.writerows(data.items())\n",
    "\n",
    "with open('output.csv', 'r') as f:\n",
    "    print(\"\\nThe content of the file: \",*csv.reader(f), sep='\\n')"
   ]
  },
  {
   "cell_type": "code",
   "execution_count": null,
   "id": "ddcd8a7d",
   "metadata": {},
   "outputs": [],
   "source": []
  }
 ],
 "metadata": {
  "kernelspec": {
   "display_name": "Python 3 (ipykernel)",
   "language": "python",
   "name": "python3"
  },
  "language_info": {
   "codemirror_mode": {
    "name": "ipython",
    "version": 3
   },
   "file_extension": ".py",
   "mimetype": "text/x-python",
   "name": "python",
   "nbconvert_exporter": "python",
   "pygments_lexer": "ipython3",
   "version": "3.11.5"
  }
 },
 "nbformat": 4,
 "nbformat_minor": 5
}
