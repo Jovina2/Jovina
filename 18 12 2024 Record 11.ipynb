{
 "cells": [
  {
   "cell_type": "code",
   "execution_count": 2,
   "id": "d41155d9",
   "metadata": {},
   "outputs": [
    {
     "name": "stdout",
     "output_type": "stream",
     "text": [
      "Enter emails and phone numbers separated by commas: john.doe@example.com,+91-9876543210,alice@domain,1234567890,bob@company.org\n",
      "\n",
      "Valid Emails:\n",
      "- john.doe@example.com\n",
      "- bob@company.org\n",
      "\n",
      "Valid Phone Numbers:\n",
      "- +91-9876543210\n",
      "- 1234567890\n"
     ]
    }
   ],
   "source": [
    "import re\n",
    "email_pattern = r'^[a-zA-Z0-9._%+-]+@[a-zA-Z0-9.-]+\\.[a-zA-Z]{2,}$'\n",
    "phone_pattern = r'^\\+?\\d{0,2}[-\\s]?\\d{10}$'\n",
    "user_input = input(\"Enter emails and phone numbers separated by commas: \")\n",
    "inputs = [item.strip() for item in user_input.split(\",\")]\n",
    "valid_emails = []\n",
    "valid_phone_numbers = []\n",
    "for item in inputs:\n",
    "    if re.match(email_pattern, item):\n",
    "        valid_emails.append(item)\n",
    "    elif re.match(phone_pattern, item):\n",
    "        valid_phone_numbers.append(item)\n",
    "print(\"\\nValid Emails:\")\n",
    "for email in valid_emails:\n",
    "    print(f\"- {email}\")\n",
    "print(\"\\nValid Phone Numbers:\")\n",
    "for phone in valid_phone_numbers:\n",
    "    print(f\"- {phone}\")"
   ]
  },
  {
   "cell_type": "code",
   "execution_count": null,
   "id": "6ec6eefb",
   "metadata": {},
   "outputs": [],
   "source": []
  }
 ],
 "metadata": {
  "kernelspec": {
   "display_name": "Python 3 (ipykernel)",
   "language": "python",
   "name": "python3"
  },
  "language_info": {
   "codemirror_mode": {
    "name": "ipython",
    "version": 3
   },
   "file_extension": ".py",
   "mimetype": "text/x-python",
   "name": "python",
   "nbconvert_exporter": "python",
   "pygments_lexer": "ipython3",
   "version": "3.11.5"
  }
 },
 "nbformat": 4,
 "nbformat_minor": 5
}
