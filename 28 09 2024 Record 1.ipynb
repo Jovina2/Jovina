{
 "cells": [
  {
   "cell_type": "code",
   "execution_count": 1,
   "id": "1d25dbd0",
   "metadata": {},
   "outputs": [
    {
     "name": "stdout",
     "output_type": "stream",
     "text": [
      "Enter an Integer :5\n",
      "5+55+555=615\n"
     ]
    }
   ],
   "source": [
    "#INTEGER\n",
    "n=input(\"Enter an Integer :\")\n",
    "result=int(n)+int(n*2)+int(n*3)\n",
    "print(f\"{n}+{n*2}+{n*3}={result}\")\n"
   ]
  },
  {
   "cell_type": "code",
   "execution_count": 3,
   "id": "d628dd54",
   "metadata": {},
   "outputs": [
    {
     "name": "stdout",
     "output_type": "stream",
     "text": [
      "Enter the radius of circle :3\n",
      "The area of the circle is : 28.274333882308138\n"
     ]
    }
   ],
   "source": [
    "#AREA OF THE CIRCLE\n",
    "import math\n",
    "Radius=float(input(\"Enter the radius of circle :\"))\n",
    "area=math.pi*Radius*Radius\n",
    "pi=3.14\n",
    "\n",
    "print(\"The area of the circle is :\",area)"
   ]
  },
  {
   "cell_type": "code",
   "execution_count": 4,
   "id": "745b977c",
   "metadata": {},
   "outputs": [
    {
     "name": "stdout",
     "output_type": "stream",
     "text": [
      "Enter first number:5\n",
      "Enter second number:8\n",
      "Enter third number:3\n",
      "Biggest number is : 8\n"
     ]
    }
   ],
   "source": [
    "#BIGGEST OF THREE NUMBERS\n",
    "import math\n",
    "a=int(input(\"Enter first number:\"))\n",
    "b=int(input(\"Enter second number:\"))\n",
    "c=int(input(\"Enter third number:\"))\n",
    "Biggest=max(a,b,c)\n",
    "print(\"Biggest number is :\",Biggest)"
   ]
  },
  {
   "cell_type": "code",
   "execution_count": null,
   "id": "160e11fc",
   "metadata": {},
   "outputs": [],
   "source": []
  }
 ],
 "metadata": {
  "kernelspec": {
   "display_name": "Python 3 (ipykernel)",
   "language": "python",
   "name": "python3"
  },
  "language_info": {
   "codemirror_mode": {
    "name": "ipython",
    "version": 3
   },
   "file_extension": ".py",
   "mimetype": "text/x-python",
   "name": "python",
   "nbconvert_exporter": "python",
   "pygments_lexer": "ipython3",
   "version": "3.11.5"
  }
 },
 "nbformat": 4,
 "nbformat_minor": 5
}
