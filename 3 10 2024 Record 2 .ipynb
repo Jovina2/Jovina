{
 "cells": [
  {
   "cell_type": "code",
   "execution_count": 9,
   "id": "9b5553f3",
   "metadata": {},
   "outputs": [
    {
     "name": "stdout",
     "output_type": "stream",
     "text": [
      "Enter temperature in Celsius:25\n",
      "The farenheit temperature is= 77.0\n"
     ]
    }
   ],
   "source": [
    "#CELSIUS TO FARENHEIT\n",
    "T=int(input(\"Enter temperature in Celsius:\"))\n",
    "F=T * 9/5 + 32\n",
    "print(\"The farenheit temperature is=\",F)"
   ]
  },
  {
   "cell_type": "code",
   "execution_count": 15,
   "id": "ce9bf8ae",
   "metadata": {},
   "outputs": [
    {
     "name": "stdout",
     "output_type": "stream",
     "text": [
      "Enter the kilometers :4\n",
      "4.0 is equal to 2.48548\n"
     ]
    }
   ],
   "source": [
    "#KILOMETER TO MILES\n",
    "a=float(input(\"Enter the kilometers :\"))\n",
    "b=a*(0.62137)\n",
    "print(\"{} is equal to {}\".format(a,b))"
   ]
  },
  {
   "cell_type": "code",
   "execution_count": 22,
   "id": "6ea0bb10",
   "metadata": {},
   "outputs": [
    {
     "name": "stdout",
     "output_type": "stream",
     "text": [
      "Enter the price of the product A :100\n",
      "Enter the price of the product B :80\n",
      "Enter the price of the product C :40\n",
      "Final price(after 15% discount) : 187.0\n",
      "average price : 73.33\n",
      "Product A is more expensive than the final price : False\n",
      "Product B is more expensive than the final price : False\n",
      "Product C is more expensive than the final price : False\n",
      "Final price is in range between 60 to 100 :True\n"
     ]
    }
   ],
   "source": [
    "A=float(input(\"Enter the price of the product A :\"))\n",
    "B=float(input(\"Enter the price of the product B :\"))\n",
    "C=float(input(\"Enter the price of the product C :\"))\n",
    "Total_price=A+B+C\n",
    "discount=Total_price * 0.15\n",
    "final_price=Total_price-discount\n",
    "print(f\"Final price(after 15% discount) : {final_price}\")\n",
    "avg_price=Total_price/3;\n",
    "print(f\"average price : {avg_price:.2f}\")\n",
    "print(f\"Product A is more expensive than the final price : {A>final_price}\")\n",
    "print(f\"Product B is more expensive than the final price : {B>final_price}\")\n",
    "print(f\"Product C is more expensive than the final price : {C>final_price}\")\n",
    "print(f\"Final price is in range between 60 to 100 :{final_price>60 and final_price<200}\")         "
   ]
  },
  {
   "cell_type": "code",
   "execution_count": null,
   "id": "8f9d59c1",
   "metadata": {},
   "outputs": [],
   "source": []
  },
  {
   "cell_type": "code",
   "execution_count": null,
   "id": "d7b9a5be",
   "metadata": {},
   "outputs": [],
   "source": []
  }
 ],
 "metadata": {
  "kernelspec": {
   "display_name": "Python 3 (ipykernel)",
   "language": "python",
   "name": "python3"
  },
  "language_info": {
   "codemirror_mode": {
    "name": "ipython",
    "version": 3
   },
   "file_extension": ".py",
   "mimetype": "text/x-python",
   "name": "python",
   "nbconvert_exporter": "python",
   "pygments_lexer": "ipython3",
   "version": "3.11.5"
  }
 },
 "nbformat": 4,
 "nbformat_minor": 5
}
