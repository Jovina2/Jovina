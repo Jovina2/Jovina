
{
 "cells": [
  {
   "cell_type": "code",
   "execution_count": 6,
   "id": "f6fd834f",
   "metadata": {},
   "outputs": [
    {
     "name": "stdout",
     "output_type": "stream",
     "text": [
      "Enter a text:hello world hello python program\n",
      "Occurence of word: {'hello': 2, 'world': 1, 'python': 1, 'program': 1}\n"
     ]
    }
   ],
   "source": [
    "#COUNT THE OCCURRENCES\n",
    "f=input(\"Enter a text:\").split()\n",
    "print(\"Occurence of word:\",{word:f.count (word)for word in f})"
   ]
  },
  {
   "cell_type": "code",
   "execution_count": 4,
   "id": "de12df45",
   "metadata": {},
   "outputs": [
    {
     "name": "stdout",
     "output_type": "stream",
     "text": [
      "Enter the list of integers :127,33,250,60\n",
      "After sorting : ['over', 33, 'over', 60]\n"
     ]
    }
   ],
   "source": [
    "#VALUES GREATER THAN 100 \n",
    "a=input(\"Enter the list of integers :\").split(\",\")\n",
    "print(\"After sorting :\",[int(x) if int(x)<100 else \"over\" for x in a])                                       "
   ]
  },
  {
   "cell_type": "code",
   "execution_count": 15,
   "id": "2a341176",
   "metadata": {},
   "outputs": [
    {
     "name": "stdout",
     "output_type": "stream",
     "text": [
      "Enter the list of first names :Arun,Ann,Ameena,Jovina,Anu\n",
      "The total number of 'a' in the list are 6\n"
     ]
    }
   ],
   "source": [
    "#LIST OF FIRST NAMES\n",
    "b=input(\"Enter the list of first names :\").split(\",\")\n",
    "total_count=0\n",
    "for name in b:\n",
    "    total_count +=name.lower().count('a')\n",
    "print(\"The total number of 'a' in the list are\",total_count)"
   ]
  },
  {
   "cell_type": "code",
   "execution_count": 10,
   "id": "c1134810",
   "metadata": {},
   "outputs": [
    {
     "name": "stdout",
     "output_type": "stream",
     "text": [
      "Enter the first list of integers :1,3,5,7\n",
      "Enter the second list of integers :3,5,9,0\n",
      "Same length : True\n",
      "Same Sum : False\n",
      "Common values : {3, 5}\n"
     ]
    }
   ],
   "source": [
    "#LIST OF INTEGERS\n",
    "L1=list(map(int,input(\"Enter the first list of integers :\").split(\",\")))\n",
    "L2=list(map(int,input(\"Enter the second list of integers :\").split(\",\")))\n",
    "same_length=len(L1)==len(L2)\n",
    "same_sum=sum(L1)==sum(L2)\n",
    "common_values=set(L1).intersection(L2)\n",
    "print(\"Same length :\",same_length)\n",
    "print(\"Same Sum :\",same_sum)\n",
    "print(\"Common values :\",common_values)"
   ]
  },
  {
   "cell_type": "code",
   "execution_count": 23,
   "id": "103c6585",
   "metadata": {},
   "outputs": [
    {
     "name": "stdout",
     "output_type": "stream",
     "text": [
      "Enter the first list of integers :1,6,-9,5,-3\n",
      "Enter a word:Appearence\n",
      "Postivie numbers are : [1, 6, 5]\n",
      "Square of given numbers is : [1, 36, 81, 25, 9]\n",
      "Vowels of the word are : ['A', 'e', 'a', 'e', 'e']\n",
      "Ordinal values are : [65, 112, 112, 101, 97, 114, 101, 110, 99, 101]\n"
     ]
    }
   ],
   "source": [
    "#LIST COMPREHENSIONS\n",
    "n=list(map(int,input(\"Enter the first list of integers :\").split(\",\")))\n",
    "word=input(\"Enter a word:\")\n",
    "positive_numbers=[num for num in n if num > 0]\n",
    "print(\"Postivie numbers are :\",positive_numbers)\n",
    "squares=[i**2 for i in n]\n",
    "print(\"Square of given numbers is :\",squares)\n",
    "vowels=[char for char in word if char in 'aeiouAEIOU']\n",
    "print(\"Vowels of the word are :\",vowels)\n",
    "ordinal_values=[ord(char) for char in word]\n",
    "print(\"Ordinal values are :\",ordinal_values)"
   ]
  },
  {
   "cell_type": "code",
   "execution_count": null,
   "id": "7fe1da25",
   "metadata": {},
   "outputs": [],
   "source": []
  },
  {
   "cell_type": "code",
   "execution_count": null,
   "id": "ea6ce377",
   "metadata": {},
   "outputs": [],
   "source": []
  }
 ],
 "metadata": {
  "kernelspec": {
   "display_name": "Python 3 (ipykernel)",
   "language": "python",
   "name": "python3"
  },
  "language_info": {
   "codemirror_mode": {
    "name": "ipython",
    "version": 3
   },
   "file_extension": ".py",
   "mimetype": "text/x-python",
   "name": "python",
   "nbconvert_exporter": "python",
   "pygments_lexer": "ipython3",
   "version": "3.11.5"
  }
 },
 "nbformat": 4,
 "nbformat_minor": 5
}
